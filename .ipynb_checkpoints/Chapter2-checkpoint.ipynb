{
 "cells": [
  {
   "cell_type": "code",
   "execution_count": 2,
   "metadata": {
    "collapsed": true
   },
   "outputs": [],
   "source": [
    "import tensorflow as tf\n",
    "import os\n",
    "import numpy as np\n",
    "from math import pi"
   ]
  },
  {
   "cell_type": "markdown",
   "metadata": {},
   "source": [
    "### 2.2 Representing tensors###\n",
    "Tensorflow uses the infamous __tensors__ to represent matrices of any dimensionality. (E.g. a 3D matrix can be represented\n",
    "as a _rank 3_ tensor in tensorflow). <br>\n",
    "Tensors cann be created from different sources such as _Python lists, numpy-arrays, tensorflow-constants, etc._ by using the: <br> `tf.convert_to_tensor([source])` <br>\n",
    "function. `Notice that tf.constant()` also returns a Tensor object:"
   ]
  },
  {
   "cell_type": "code",
   "execution_count": 9,
   "metadata": {},
   "outputs": [
    {
     "name": "stdout",
     "output_type": "stream",
     "text": [
      "<class 'list'>\n",
      "<class 'numpy.ndarray'>\n",
      "<class 'tensorflow.python.framework.ops.Tensor'>\n",
      "<class 'tensorflow.python.framework.ops.Tensor'>\n",
      "----\n",
      "Tensor(\"Const_12:0\", shape=(2, 2), dtype=float32)\n",
      "Tensor(\"Const_12:0\", shape=(2, 2), dtype=float32)\n"
     ]
    }
   ],
   "source": [
    "py_list = [[1.0, 2.0],\n",
    "           [3.0, 4.0]]\n",
    "\n",
    "numpy_array = np.array([[1.0, 2.0],\n",
    "                        [3.0, 4.0]], dtype=np.float32)\n",
    "\n",
    "tf_constant = tf.constant([[1.0, 2.0],\n",
    "                           [3.0, 4.0]])\n",
    "\n",
    "tensor1 = tf.convert_to_tensor(py_list, dtype=tf.float32)\n",
    "tensor2 = tf.convert_to_tensor(numpy_array, dtype=tf.float32)\n",
    "tensor3 = tf.convert_to_tensor(tf_constant, dtype=tf.float32)\n",
    "\n",
    "print(type(py_list))\n",
    "print(type(numpy_array))\n",
    "print(type(tensor3))\n",
    "print(type(tf_constant))\n",
    "print(\"----\")\n",
    "print(tensor3)\n",
    "print(tf_constant)"
   ]
  },
  {
   "cell_type": "markdown",
   "metadata": {},
   "source": [
    "As you can see from the print statements above, each Tensor object has a unique __name__, __shape__, and __dtype__. Because we did not explicitly provide a name, tensorflow automatically generated names for us (e.g. \"Const_12_0\"). <br><br>\n",
    "Tensorflow has a few convenient constructors for initialising frequently used tensors such as: <br>\n",
    "- `tf.zeros(shape)`\n",
    "- `tf.ones(shape)`\n",
    "\n",
    "These can be used with standard numerical operations to create other numbers. For example, we can create a 500x500 tensor containing of 0.5s:"
   ]
  },
  {
   "cell_type": "code",
   "execution_count": 10,
   "metadata": {
    "collapsed": true
   },
   "outputs": [],
   "source": [
    "halves = tf.ones([500, 500]) * 0.5"
   ]
  },
  {
   "cell_type": "markdown",
   "metadata": {},
   "source": [
    "### 2.3 Creating Operators ###\n",
    "Tensorflow comes with its own operators which take tensors as their arguments. One of the simplest ones is the `tf.negative(tensor)` which takes a tensor as input and returns another tensor with every element of the input negated:\n"
   ]
  },
  {
   "cell_type": "code",
   "execution_count": 14,
   "metadata": {},
   "outputs": [],
   "source": [
    "x = tf.constant([1.0,2.0])\n",
    "x_neg = tf.negative(x)"
   ]
  },
  {
   "cell_type": "markdown",
   "metadata": {},
   "source": [
    "Here is a list of other commonly used operators in tensorflow:\n",
    "- `tf.add(x, y)`\n",
    "- `tf.substract(x, y)`\n",
    "- `tf.multiply(x, y)` (Note: element-wise)\n",
    "- `tf.div(x, y)`\n",
    "- `tf.floordiv(x, y)`\n",
    "- `tf.truediv(x, y)` (Casts the arguments as float)\n",
    "- `tf.mod(x, y)` Element wise remainder after dividing x by y\n",
    "- `tf.pow(x, y)` Element wise power of x to y\n",
    "- `tf.exp(x)`\n",
    "- `tf.sqrt(x)`\n",
    "\n",
    "<a href=\"https://www.tensorflow.org/api_guides/python/math_ops\">Here</a> you can find the complete list of operators available in the documentation. Using the above operators, we can now write the gaussian pdf using tensors:"
   ]
  },
  {
   "cell_type": "code",
   "execution_count": 17,
   "metadata": {},
   "outputs": [],
   "source": [
    "mean = 0.0\n",
    "sigma = 1.0\n",
    "\n",
    "norm_tensor = tf.exp(tf.negative(tf.pow(x - mean, 2.0)/(2.0 * tf.pow(sigma,2.0) ))) * (1.0 / (sigma * tf.sqrt(2.0 * pi) ))"
   ]
  },
  {
   "cell_type": "markdown",
   "metadata": {},
   "source": [
    "### 2.4 Executing operators with sessions ###\n",
    "Notice that until now, we have simply defined the behaviour of tensors - no calculations have yet been performed. For calculations to be carried out, a __session__ is required. To create a session we use the `tf.session()` function:"
   ]
  },
  {
   "cell_type": "code",
   "execution_count": 20,
   "metadata": {},
   "outputs": [
    {
     "name": "stdout",
     "output_type": "stream",
     "text": [
      "[-1. -2. -3.]\n"
     ]
    }
   ],
   "source": [
    "x = tf.constant([1., 2., 3.], dtype=tf.float32)\n",
    "neg_x = tf.negative(x)\n",
    "\n",
    "with tf.Session() as sess:\n",
    "    result = sess.run(neg_x)\n",
    "\n",
    "print(result)"
   ]
  },
  {
   "cell_type": "markdown",
   "metadata": {},
   "source": [
    "Every Tensor object has an `eval()` function to evaluate the mathematical operations that defines its value. However, the `eval()` function requires defining a session object for the library to understand how best to make use of hardware. When we use `sess.run(...)` it is equivalent to invoking the Tensor's `eval()` function within the context of the created session.<br>\n",
    "\n",
    "Sometimes, for presentation purposes it is more convenient to create an __interactive session__ where the session is implicit in any call to `eval()`. It is important to remember to `close()` the interactive mode to free up the taken resources:"
   ]
  },
  {
   "cell_type": "code",
   "execution_count": 21,
   "metadata": {},
   "outputs": [
    {
     "name": "stdout",
     "output_type": "stream",
     "text": [
      "[ 0.24197073  0.05399097  0.00443185]\n"
     ]
    }
   ],
   "source": [
    "sess = tf.InteractiveSession()\n",
    "\n",
    "x = tf.constant([1., 2., 3.], dtype=tf.float32)\n",
    "mean = 0.0\n",
    "sigma = 1.0\n",
    "norm_tensor = tf.exp(tf.negative(tf.pow(x - mean, 2.0)/(2.0 * tf.pow(sigma,2.0) ))) * (1.0 / (sigma * tf.sqrt(2.0 * pi) ))\n",
    "\n",
    "result = norm_tensor.eval()\n",
    "print(result)\n",
    "\n",
    "sess.close()"
   ]
  },
  {
   "cell_type": "code",
   "execution_count": 3,
   "metadata": {},
   "outputs": [
    {
     "name": "stdout",
     "output_type": "stream",
     "text": [
      "[-1. -2.]\n"
     ]
    }
   ],
   "source": [
    "with tf.Session(config=tf.ConfigProto(log_device_placement=True)) as sess:\n",
    "    result = sess.run(neg_x)\n",
    "\n",
    "print(result)"
   ]
  },
  {
   "cell_type": "code",
   "execution_count": 8,
   "metadata": {
    "collapsed": true
   },
   "outputs": [],
   "source": [
    "sess = tf.InteractiveSession()\n",
    "raw_data = [1., 2., 8., -1., 0., 5.5, 6., 13]\n",
    "spike = tf.Variable(False)\n",
    "spike.initializer.run()"
   ]
  },
  {
   "cell_type": "code",
   "execution_count": 9,
   "metadata": {},
   "outputs": [
    {
     "name": "stdout",
     "output_type": "stream",
     "text": [
      "Spike: False\n",
      "Spike: True\n",
      "Spike: False\n",
      "Spike: False\n",
      "Spike: True\n",
      "Spike: False\n",
      "Spike: True\n"
     ]
    }
   ],
   "source": [
    "for i in range(1, len(raw_data)):\n",
    "    if raw_data[i] - raw_data[i-1] > 5:\n",
    "        updater = tf.assign(spike, True)\n",
    "        updater.eval()\n",
    "    else:\n",
    "        tf.assign(spike, False).eval()\n",
    "    \n",
    "    print(\"Spike: %s\" % spike.eval())"
   ]
  },
  {
   "cell_type": "code",
   "execution_count": 10,
   "metadata": {
    "collapsed": true
   },
   "outputs": [],
   "source": [
    "sess.close()"
   ]
  },
  {
   "cell_type": "code",
   "execution_count": 22,
   "metadata": {},
   "outputs": [],
   "source": [
    "# Suppose we want to save results so that they are accessible without rerunning the whole model.\n",
    "# Tensorflow offers us a simple way to do this:\n",
    "\n",
    "sess = tf.InteractiveSession()\n",
    " \n",
    "raw_data = [1., 2., 8., -1., 0., 5.5, 6., 13]\n",
    "spikes = tf.Variable([False] * len(raw_data), name='spikes')\n",
    "spikes.initializer.run()\n",
    " \n",
    "saver = tf.train.Saver()\n",
    " \n",
    "for i in range(1, len(raw_data)):\n",
    "    if raw_data[i] - raw_data[i-1] > 5:\n",
    "        spikes_val = spikes.eval()\n",
    "        spikes_val[i] = True\n",
    "        updater = tf.assign(spikes, spikes_val)\n",
    "        updater.eval()\n",
    " \n",
    " \n",
    "save_path = saver.save(sess, \"./trained_variables.ckpt\")\n",
    "# print(\"spikes data saved in file: %s\" % save_path)\n",
    " \n",
    "sess.close()\n"
   ]
  },
  {
   "cell_type": "code",
   "execution_count": null,
   "metadata": {
    "collapsed": true
   },
   "outputs": [],
   "source": []
  }
 ],
 "metadata": {
  "kernelspec": {
   "display_name": "Python 3",
   "language": "python",
   "name": "python3"
  },
  "language_info": {
   "codemirror_mode": {
    "name": "ipython",
    "version": 3
   },
   "file_extension": ".py",
   "mimetype": "text/x-python",
   "name": "python",
   "nbconvert_exporter": "python",
   "pygments_lexer": "ipython3",
   "version": "3.5.3"
  }
 },
 "nbformat": 4,
 "nbformat_minor": 2
}
