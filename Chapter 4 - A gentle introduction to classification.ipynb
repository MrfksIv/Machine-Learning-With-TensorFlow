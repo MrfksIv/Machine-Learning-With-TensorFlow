{
 "cells": [
  {
   "cell_type": "markdown",
   "metadata": {},
   "source": [
    "### Using linear regression for classification ###\n",
    "One of the easiest ways to implement a classifier is to tweak a linear regression algorithm. Since classification is about discrete ouputs we force the regression model to produce a binary output, by setting a threshold and checking whether the continuous output value is above or below it."
   ]
  },
  {
   "cell_type": "code",
   "execution_count": 1,
   "metadata": {
    "collapsed": true
   },
   "outputs": [],
   "source": [
    "import tensorflow as tf\n",
    "import numpy as np\n",
    "import matplotlib.pyplot as plt"
   ]
  },
  {
   "cell_type": "code",
   "execution_count": 12,
   "metadata": {},
   "outputs": [
    {
     "data": {
      "image/png": "[encoded data removed]",
      "text/plain": [
       "<matplotlib.figure.Figure at 0x29d9d0a06a0>"
      ]
     },
     "metadata": {},
     "output_type": "display_data"
    }
   ],
   "source": [
    "x_label_0 = np.random.normal(5, 1, 10)\n",
    "x_label_1 = np.random.normal(2, 1, 10)\n",
    "\n",
    "xs = np.append(x_label_0, x_label_1)\n",
    "labels = [0.] * len(x_label_0) + [1.] * len(x_label_1)\n",
    "\n",
    "plt.scatter(xs, labels)\n",
    "plt.show()"
   ]
  },
  {
   "cell_type": "code",
   "execution_count": 3,
   "metadata": {
    "collapsed": true
   },
   "outputs": [],
   "source": [
    "learning_rate = 0.001\n",
    "training_epochs = 1000\n",
    "\n",
    "X = tf.placeholder(\"float\")\n",
    "Y = tf.placeholder(\"float\")\n",
    "\n",
    "w = tf.Variable([0., 0.], name=\"parameters\")\n",
    "\n",
    "def model(X, w):\n",
    "    return tf.add(tf.multiply(w[1], tf.pow(X, 1)), tf.multiply(w[0], tf.pow(X, 0)) )\n",
    "\n",
    "y_model = model(X, w)\n",
    "cost = tf.reduce_sum(tf.square(Y - y_model))\n",
    "train_op = tf.train.GradientDescentOptimizer(learning_rate).minimize(cost)"
   ]
  },
  {
   "cell_type": "code",
   "execution_count": 5,
   "metadata": {},
   "outputs": [
    {
     "name": "stdout",
     "output_type": "stream",
     "text": [
      "0 8.25374\n",
      "100 3.48399\n",
      "200 2.07743\n",
      "300 1.64286\n",
      "400 1.5086\n",
      "500 1.46711\n",
      "600 1.4543\n",
      "700 1.45034\n",
      "800 1.44911\n",
      "900 1.44874\n",
      "learned parameters: [ 1.48214519 -0.27003625]\n",
      "accuracy:  0.9\n"
     ]
    },
    {
     "data": {
      "image/png": "[encoded data removed]",
      "text/plain": [
       "<matplotlib.figure.Figure at 0x29d98e82160>"
      ]
     },
     "metadata": {},
     "output_type": "display_data"
    }
   ],
   "source": [
    "sess = tf.Session()\n",
    "init = tf.global_variables_initializer()\n",
    "sess.run(init)\n",
    "\n",
    "for epoch in range(training_epochs):\n",
    "    sess.run(train_op, feed_dict={X: xs, Y: labels})\n",
    "    current_cost = sess.run(cost, feed_dict={X: xs, Y: labels})\n",
    "    \n",
    "    if epoch % 100 == 0:\n",
    "        print(epoch, current_cost)\n",
    "        \n",
    "w_val = sess.run(w)\n",
    "print(\"learned parameters: {}\".format(w_val))\n",
    "\n",
    "correct_prediction = tf.equal(Y, tf.to_float(tf.greater(y_model, 0.5)))\n",
    "accuracy = tf.reduce_mean(tf.to_float(correct_prediction))\n",
    " \n",
    "print('accuracy: ', sess.run(accuracy, feed_dict={X: xs, Y: labels}))\n",
    "\n",
    "sess.close()\n",
    "\n",
    "plt.scatter(xs, labels)\n",
    "\n",
    "all_xs = np.linspace(0, 10, 100)\n",
    "plt.plot(all_xs, all_xs*w_val[1] + w_val[0])\n",
    "plt.show()"
   ]
  },
  {
   "cell_type": "code",
   "execution_count": 13,
   "metadata": {},
   "outputs": [
    {
     "name": "stdout",
     "output_type": "stream",
     "text": [
      "0 9.25032\n",
      "100 3.41698\n",
      "200 3.23035\n",
      "300 3.22419\n",
      "400 3.22399\n",
      "500 3.22398\n",
      "600 3.22398\n",
      "700 3.22398\n",
      "800 3.22398\n",
      "900 3.22398\n",
      "learned parameters: [ 0.8434208  -0.07505727]\n",
      "accuracy:  0.95\n"
     ]
    },
    {
     "data": {
      "image/png": "[encoded data removed]",
      "text/plain": [
       "<matplotlib.figure.Figure at 0x2a00cf95e10>"
      ]
     },
     "metadata": {},
     "output_type": "display_data"
    }
   ],
   "source": [
    "x_label_0 = np.append(np.random.normal(5, 1, 9), 20)\n",
    "xs = np.append(x_label_0, x_label_1)\n",
    "labels = [0.] * len(x_label_0) + [1.] * len(x_label_1)\n",
    "\n",
    "sess = tf.Session()\n",
    "init = tf.global_variables_initializer()\n",
    "sess.run(init)\n",
    "\n",
    "for epoch in range(training_epochs):\n",
    "    sess.run(train_op, feed_dict={X: xs, Y: labels})\n",
    "    current_cost = sess.run(cost, feed_dict={X: xs, Y: labels})\n",
    "    \n",
    "    if epoch % 100 == 0:\n",
    "        print(epoch, current_cost)\n",
    "        \n",
    "w_val = sess.run(w)\n",
    "print(\"learned parameters: {}\".format(w_val))\n",
    "\n",
    "correct_prediction = tf.equal(Y, tf.to_float(tf.greater(y_model, 0.5)))\n",
    "accuracy = tf.reduce_mean(tf.to_float(correct_prediction))\n",
    " \n",
    "print('accuracy: ', sess.run(accuracy, feed_dict={X: xs, Y: labels}))\n",
    "\n",
    "sess.close()\n",
    "\n",
    "plt.scatter(xs, labels)\n",
    "\n",
    "all_xs = np.linspace(0, 10, 100)\n",
    "plt.plot(all_xs, all_xs*w_val[1] + w_val[0])\n",
    "plt.show()"
   ]
  },
  {
   "cell_type": "markdown",
   "metadata": {},
   "source": [
    "Just by adding a single extreme observation we see how our linear classifier is affected. We could change slightly our model and cost function and use logistic regression instead.\n",
    "\n",
    "### 4.4 Using Logistic Regression ###\n",
    "In linear regression, a line with a non-zero slope may range from negative to positive infinity. If the only sensible result is 0 and 1 (i.e. a binary classifier) it would be better to use a model function whouse output range is [0, 1]. This is why we turn our attention to the __sigmoid function__:\n",
    "\n",
    "$$ sig(x) = \\frac{1}{1 + e^{-x}} $$\n",
    "\n",
    "Here is a plot of the sigmoid:"
   ]
  },
  {
   "cell_type": "code",
   "execution_count": 19,
   "metadata": {},
   "outputs": [
    {
     "data": {
      "image/png": "[encoded data removed]",
      "text/plain": [
       "<matplotlib.figure.Figure at 0x2a0113542b0>"
      ]
     },
     "metadata": {},
     "output_type": "display_data"
    }
   ],
   "source": [
    "x = np.linspace(-10, 10, 100)\n",
    "y = 1 / (1 + np.exp(-x))\n",
    "\n",
    "plt.plot(x, y)\n",
    "plt.axhline(0, color=\"black\")\n",
    "plt.axvline(0, color=\"black\")\n",
    "plt.show()"
   ]
  },
  {
   "cell_type": "markdown",
   "metadata": {},
   "source": [
    "When x is 0, the sigmoid function results in 0.5. As x increases to infinity, the function converges to 1 and as x decreases to negative infinity, it converges to 0.\n",
    "We also need to make some modifications to our cost function which now becomes:\n",
    "$$ Cost(y,h) = -y log(h) - (1-y)log(1-h) $$"
   ]
  },
  {
   "cell_type": "code",
   "execution_count": 33,
   "metadata": {},
   "outputs": [
    {
     "data": {
      "image/png": "[encoded data removed]",
      "text/plain": [
       "<matplotlib.figure.Figure at 0x2a0113405c0>"
      ]
     },
     "metadata": {},
     "output_type": "display_data"
    }
   ],
   "source": [
    "learning_rate = 0.01\n",
    "training_epochs = 1000\n",
    "\n",
    "def sigmoid(x):\n",
    "    return 1. /(1. + np.exp(x))\n",
    "\n",
    "x1 = np.random.normal(-4, 2, 1000)\n",
    "x2 = np.random.normal(4, 2, 1000)\n",
    "xs = np.append(x1, x2)\n",
    "ys = np.asarray([0.] * len(x1) + [1.]* len(x2))\n",
    "\n",
    "plt.scatter(xs, ys)\n",
    "plt.show()"
   ]
  },
  {
   "cell_type": "code",
   "execution_count": 34,
   "metadata": {},
   "outputs": [
    {
     "name": "stdout",
     "output_type": "stream",
     "text": [
      "Epoch 0, error:0.6931471824645996\n",
      "Epoch 100, error:0.14371567964553833\n",
      "Epoch 200, error:0.10668154060840607\n",
      "Epoch 300, error:0.09224620461463928\n",
      "[-0.01083754  0.93954688]\n"
     ]
    },
    {
     "data": {
      "image/png": "[encoded data removed]",
      "text/plain": [
       "<matplotlib.figure.Figure at 0x2a00cf8dd68>"
      ]
     },
     "metadata": {},
     "output_type": "display_data"
    }
   ],
   "source": [
    "X = tf.placeholder(tf.float32, shape=(None,), name=\"x\")\n",
    "Y = tf.placeholder(tf.float32, shape=(None,), name=\"y\")\n",
    "\n",
    "w = tf.Variable([0., 0.], name=\"parameter\", trainable=True)\n",
    "\n",
    "y_model = tf.sigmoid(w[1] * X + w[0])\n",
    "cost = tf.reduce_mean(-Y * tf.log(y_model) - (1 - Y) * tf.log(1 - y_model))\n",
    "\n",
    "train_op = tf.train.GradientDescentOptimizer(learning_rate).minimize(cost)\n",
    "\n",
    "with tf.Session() as sess:\n",
    "    sess.run(tf.global_variables_initializer())\n",
    "    prev_err = 0\n",
    "    for epoch in range(training_epochs):\n",
    "        err, _ = sess.run([cost, train_op], feed_dict={X: xs, Y: ys})\n",
    "        \n",
    "        if epoch % 100 == 0:\n",
    "            print(\"Epoch {}, error:{}\".format(epoch, err))\n",
    "        \n",
    "        if abs(prev_err - err) < 0.0001:\n",
    "            break\n",
    "        prev_err = err\n",
    "    w_val = sess.run(w, feed_dict={X: xs, Y: ys})\n",
    "    print(w_val)\n",
    "\n",
    "plt.scatter(xs, ys)\n",
    "plt.axhline(0, color=\"black\")\n",
    "plt.axvline(0, color=\"black\")\n",
    "all_xs = np.linspace(-10, 10, 100)\n",
    "plt.plot(all_xs, sigmoid(-(all_xs * w_val[1] + w_val[0])))\n",
    "plt.show()\n",
    "    \n",
    "        "
   ]
  },
  {
   "cell_type": "code",
   "execution_count": null,
   "metadata": {
    "collapsed": true
   },
   "outputs": [],
   "source": []
  }
 ],
 "metadata": {
  "kernelspec": {
   "display_name": "Python 3",
   "language": "python",
   "name": "python3"
  },
  "language_info": {
   "codemirror_mode": {
    "name": "ipython",
    "version": 3
   },
   "file_extension": ".py",
   "mimetype": "text/x-python",
   "name": "python",
   "nbconvert_exporter": "python",
   "pygments_lexer": "ipython3",
   "version": "3.5.3"
  }
 },
 "nbformat": 4,
 "nbformat_minor": 2
}
