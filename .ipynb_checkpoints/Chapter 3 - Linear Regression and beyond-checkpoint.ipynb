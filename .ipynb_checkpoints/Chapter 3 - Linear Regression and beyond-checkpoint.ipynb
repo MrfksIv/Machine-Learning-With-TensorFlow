{
 "cells": [
  {
   "cell_type": "markdown",
   "metadata": {},
   "source": [
    "### 3.1 Formal Notation ###\n",
    "It is a frequent belief that tensorflow is only 'good' for neural networks. This is not at all so. In this chapter, we will perform the classic supervised algorithm called __Linear Regression__."
   ]
  },
  {
   "cell_type": "markdown",
   "metadata": {},
   "source": [
    "<table style=\"text-align:center\">\n",
    "    <thead>\n",
    "        <tr>\n",
    "            <th>Train Accuracy</th>\n",
    "            <th>Test Accuracy</th>\n",
    "            <th>Result</th>\n",
    "        </tr>\n",
    "    </thead>\n",
    "    <tbody>\n",
    "        <tr>\n",
    "            <td style=\"color:green\">High</td>\n",
    "            <td style=\"color:green\">High</td>\n",
    "            <td>OK <br> &nbsp;</td>\n",
    "        </tr>\n",
    "        <tr>\n",
    "            <td style=\"color:red\">Low</td>\n",
    "            <td style=\"color:green\">High</td>\n",
    "            <td>Not OK:<br> underfit</td>\n",
    "        </tr>\n",
    "        <tr>\n",
    "            <td style=\"color:green\" >High</td>\n",
    "            <td style=\"color:red\">Low</td>\n",
    "            <td>Not OK:<br> overfit</td>\n",
    "        </tr>\n",
    "    </tbody>\n",
    "</table>"
   ]
  },
  {
   "cell_type": "markdown",
   "metadata": {},
   "source": [
    "__Underfitting__ occurs when our model performs well on the test set but poorly on the training set. This situation indicates an underfit: High variance and low bias. We could have performed better by training more. <br>\n",
    "The opposite situation is __overfitting__ and happens when we train too long. In this situations the training accuracy increases - low variance - but our test accuracy decreases - high bias. An overfitted model is biased towards the training set (it memorises the training data) and generalises badly on unseen data. <br>"
   ]
  },
  {
   "cell_type": "markdown",
   "metadata": {},
   "source": [
    "### 3.2 Linear Regression ###\n",
    "Below we demonstrate linear regression using some fake data created with numpy:"
   ]
  },
  {
   "cell_type": "code",
   "execution_count": 2,
   "metadata": {
    "collapsed": true
   },
   "outputs": [],
   "source": [
    "import numpy as np\n",
    "import tensorflow as tf\n",
    "import matplotlib.pyplot as plt"
   ]
  },
  {
   "cell_type": "code",
   "execution_count": 3,
   "metadata": {},
   "outputs": [
    {
     "data": {
      "image/png": "[encoded data removed]",
      "text/plain": [
       "<matplotlib.figure.Figure at 0x155b8b4e668>"
      ]
     },
     "metadata": {},
     "output_type": "display_data"
    }
   ],
   "source": [
    "x_train = np.linspace(-1, 1, 101)\n",
    "y_train = 2 * x_train + np.random.randn(*x_train.shape) * 0.33\n",
    "\n",
    "plt.scatter(x_train, y_train)\n",
    "plt.show()"
   ]
  },
  {
   "cell_type": "markdown",
   "metadata": {},
   "source": [
    "Next, we use TensorFlow to estimate the line of best fit. For this to work, we need to rephrase our problem as a cost minimisation problem. I.e. we need to define a cost function such that, the further away our line is from the data, the higher the cost. <br>\n",
    "Minimising that cost with respect to the parameter ___w___, the line slope, yields the line of best fit."
   ]
  },
  {
   "cell_type": "code",
   "execution_count": 9,
   "metadata": {},
   "outputs": [
    {
     "name": "stdout",
     "output_type": "stream",
     "text": [
      "weight in epoch 0: 0.9763985872268677\n",
      "weight in epoch 20: 1.9569166898727417\n",
      "weight in epoch 40: 1.9569171667099\n",
      "weight in epoch 60: 1.9569171667099\n",
      "weight in epoch 80: 1.9569171667099\n"
     ]
    },
    {
     "data": {
      "image/png": "[encoded data removed]",
      "text/plain": [
       "<matplotlib.figure.Figure at 0x155b8fe92b0>"
      ]
     },
     "metadata": {},
     "output_type": "display_data"
    }
   ],
   "source": [
    "\n",
    "learning_rate = 0.01\n",
    "training_epochs = 100\n",
    "\n",
    "# Define the placeholders for the training data and labels\n",
    "X = tf.placeholder(\"float\")\n",
    "Y = tf.placeholder(\"float\")\n",
    "\n",
    "\n",
    "# Define the variable that will be trained\n",
    "w = tf.Variable(0.0, name=\"weights\")\n",
    "\n",
    "# Define the model equation\n",
    "def model(X, w):\n",
    "    return tf.multiply(X, w) \n",
    "y_model = model(X, w)\n",
    "\n",
    "# Define the cost function\n",
    "cost = tf.square(Y-y_model)\n",
    " \n",
    "# Set it up as a cost minimisation problem\n",
    "train_op = tf.train.GradientDescentOptimizer(learning_rate).minimize(cost)\n",
    "\n",
    "# Create a session\n",
    "sess = tf.Session()\n",
    "\n",
    "# Initialise the session's tensor variables\n",
    "init = tf.global_variables_initializer()\n",
    "sess.run(init)\n",
    "\n",
    "\n",
    "for epoch in range(training_epochs):\n",
    "    for (x, y) in zip(x_train, y_train):\n",
    "        sess.run(train_op, feed_dict={X: x, Y: y})\n",
    "        currentW = w.eval(session = sess)\n",
    "    \n",
    "    if epoch % 20 == 0:\n",
    "        print(\"weight in epoch {}: {}\".format(epoch, currentW))\n",
    "\n",
    "w_val = sess.run(w)\n",
    " \n",
    "sess.close()\n",
    "plt.scatter(x_train, y_train)\n",
    "y_learned = x_train*w_val\n",
    "plt.plot(x_train, y_learned, 'r')\n",
    "plt.show()"
   ]
  },
  {
   "cell_type": "markdown",
   "metadata": {
    "collapsed": true
   },
   "source": [
    "### Polynomial Model ###\n",
    "Linear models are often too simplistic to properly fit data in lots of situations. Consider for example of parabolic projectile motion or WiFi signal strength degrading with an inverse square law. In these situations we need to use a polynomial model of order __n > 1__. \n",
    "\n",
    "$$f(x) = w_nx^n + ... + w_1x + w_0$$\n",
    "\n"
   ]
  },
  {
   "cell_type": "code",
   "execution_count": 24,
   "metadata": {},
   "outputs": [
    {
     "data": {
      "image/png": "[encoded data removed]",
      "text/plain": [
       "<matplotlib.figure.Figure at 0x15809ef0eb8>"
      ]
     },
     "metadata": {},
     "output_type": "display_data"
    }
   ],
   "source": [
    "trX = np.linspace(-1, 1, 101)\n",
    "\n",
    "num_coeffs = 6\n",
    "trY_coeffs = [1,2,3,4,5,6]\n",
    "trY = 0\n",
    "\n",
    "for i in range(len(trY_coeffs)):\n",
    "    trY += trY_coeffs[i] * np.power(trX, i)\n",
    "    \n",
    "trY += np.random.randn(*trX.shape) * 1.5\n",
    "plt.scatter(trX, trY)\n",
    "plt.show()\n",
    "    "
   ]
  },
  {
   "cell_type": "code",
   "execution_count": 23,
   "metadata": {},
   "outputs": [
    {
     "data": {
      "text/plain": [
       "101"
      ]
     },
     "execution_count": 23,
     "metadata": {},
     "output_type": "execute_result"
    }
   ],
   "source": [
    "learning_rate = 0.01\n",
    "training_epochs = 40\n",
    "\n",
    "X = tf.placeholder(\"float\")\n",
    "Y = tf.placeholder(\"float\")\n",
    "\n",
    "w = tf.Variable([0.] * num_coeffs, name=\"parameters\")\n",
    "def model(X, w):\n",
    "    terms = []\n",
    "    for i in range(num_coeffs):\n",
    "        term = tf.multiply(w[i], tf.pow(X, i))\n",
    "        terms.append(term)\n",
    "    \n",
    "    return tf.add_n(terms)\n",
    "\n",
    "y_model = model(X, w)\n",
    "cost = tf.pow(Y - y_model, 2)\n",
    "train_op = tf.train.GradientDescentOptimizer(learning_rate).minimize(cost)\n",
    "\n",
    "session = tf.Session()\n",
    "init = tf.global_variables_initializer()\n",
    "sess.run(init)\n",
    "\n",
    "for epoch in range(training_epochs):\n",
    "    for x,y in zip(trX, trY):\n",
    "        sess.run(train_op, feed_dict = {X: x, Y: y})\n",
    "        w_val = sess.run(w)\n",
    "        \n",
    "    if epoch % 5 == 0:\n",
    "        print('epoch {}, w: {}'.format(epoch, w_val))\n",
    "\n",
    "sess.close()\n",
    "plt.scatter(trX, trY)\n",
    "\n",
    "tryY2 = 0\n",
    "for i in range(num_coeffs):\n",
    "    trY2 += wval[i]\n"
   ]
  },
  {
   "cell_type": "code",
   "execution_count": 18,
   "metadata": {},
   "outputs": [
    {
     "data": {
      "text/plain": [
       "array([   1.,    4.,    9.,   16.,   25.,   36.,   49.,   64.,   81.,  100.])"
      ]
     },
     "execution_count": 18,
     "metadata": {},
     "output_type": "execute_result"
    }
   ],
   "source": [
    "np.power(a, 2)"
   ]
  },
  {
   "cell_type": "code",
   "execution_count": null,
   "metadata": {
    "collapsed": true
   },
   "outputs": [],
   "source": []
  },
  {
   "cell_type": "code",
   "execution_count": null,
   "metadata": {
    "collapsed": true
   },
   "outputs": [],
   "source": []
  }
 ],
 "metadata": {
  "kernelspec": {
   "display_name": "Python 3",
   "language": "python",
   "name": "python3"
  },
  "language_info": {
   "codemirror_mode": {
    "name": "ipython",
    "version": 3
   },
   "file_extension": ".py",
   "mimetype": "text/x-python",
   "name": "python",
   "nbconvert_exporter": "python",
   "pygments_lexer": "ipython3",
   "version": "3.5.3"
  }
 },
 "nbformat": 4,
 "nbformat_minor": 2
}
